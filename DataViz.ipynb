{
 "cells": [
  {
   "cell_type": "code",
   "execution_count": 19,
   "id": "18fbf264",
   "metadata": {},
   "outputs": [],
   "source": [
    "from dataclasses import dataclass\n",
    "from collections import defaultdict\n",
    "import numpy as np\n",
    "from matplotlib import pyplot as plt\n",
    "from matplotlib import animation\n",
    "from IPython.display import HTML\n",
    "\n",
    "%matplotlib inline"
   ]
  },
  {
   "cell_type": "code",
   "execution_count": 59,
   "id": "7fd419c2",
   "metadata": {},
   "outputs": [],
   "source": [
    "@dataclass\n",
    "class Trajectory:\n",
    "    device: str\n",
    "    x: float\n",
    "    y: float\n",
    "    z: float\n",
    "    dx: float\n",
    "    dy: float\n",
    "    dz: float\n",
    "    t: float"
   ]
  },
  {
   "cell_type": "code",
   "execution_count": 61,
   "id": "e4bc3232",
   "metadata": {},
   "outputs": [],
   "source": [
    "trajs = []\n",
    "with open(\"./logs/turtlebot_behavior.csv\", encoding=\"utf-16\") as file:\n",
    "    for i, line in enumerate(file):\n",
    "        # Skip header\n",
    "        if i == 0:\n",
    "            continue\n",
    "            \n",
    "        info = line.strip().split(\", \")\n",
    "        trajs.append(Trajectory(info[0], *[float(x) for x in info[1:]]))"
   ]
  },
  {
   "cell_type": "code",
   "execution_count": 67,
   "id": "78dd003d",
   "metadata": {},
   "outputs": [
    {
     "name": "stdout",
     "output_type": "stream",
     "text": [
      "1396  tracked poses\n",
      "0.013962268829345703  delta t\n"
     ]
    }
   ],
   "source": [
    "turtlebot_traj = [x for x in trajs if x.device == \"controller_1\"]\n",
    "print(len(turtlebot_traj), \" tracked poses\")\n",
    "print(abs(turtlebot_traj[0].t - turtlebot_traj[1].t), \" delta t\")"
   ]
  },
  {
   "cell_type": "code",
   "execution_count": 70,
   "id": "b858b307",
   "metadata": {},
   "outputs": [
    {
     "data": {
      "text/plain": [
       "1.6534776513082883"
      ]
     },
     "execution_count": 70,
     "metadata": {},
     "output_type": "execute_result"
    }
   ],
   "source": [
    "speeds = [np.linalg.norm(np.array([x.x, x.y, x.z])) for x in turtlebot_traj]\n",
    "np.mean(speeds)"
   ]
  },
  {
   "cell_type": "code",
   "execution_count": null,
   "id": "2e8d99db",
   "metadata": {},
   "outputs": [],
   "source": [
    "fig = plt.figure()\n",
    "fig.set_dpi(100)\n",
    "fig.set_size_inches(7, 6.5)\n",
    "colors = [\"red\", \"blue\", \"yellow\"]\n",
    "\n",
    "ax = plt.axes(xlim=(-10, 10), ylim=(-10, 10))\n",
    "patch = plt.Circle(\n",
    "    (turtlebot_traj[0].x, turtlebot_traj[0].y),\n",
    "    0.30,\n",
    "    fc=colors[i]\n",
    ")\n",
    "\n",
    "def init():\n",
    "    ax.add_patch(patch)\n",
    "    return patch,\n",
    "\n",
    "def animate(i):\n",
    "    patch.center = (\n",
    "        turtlebot_traj[i].x, turtlebot_traj[i].y\n",
    "    )\n",
    "        \n",
    "    return patch,\n",
    "\n",
    "anim = animation.FuncAnimation(fig, animate, \n",
    "                               init_func=init, \n",
    "                               frames=len(turtlebot_traj), \n",
    "                               interval=2,\n",
    "                               blit=True)\n",
    "\n",
    "HTML(anim.to_html5_video())"
   ]
  }
 ],
 "metadata": {
  "kernelspec": {
   "display_name": "Python 3 (ipykernel)",
   "language": "python",
   "name": "python3"
  },
  "language_info": {
   "codemirror_mode": {
    "name": "ipython",
    "version": 3
   },
   "file_extension": ".py",
   "mimetype": "text/x-python",
   "name": "python",
   "nbconvert_exporter": "python",
   "pygments_lexer": "ipython3",
   "version": "3.8.10"
  }
 },
 "nbformat": 4,
 "nbformat_minor": 5
}
